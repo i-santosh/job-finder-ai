{
 "cells": [
  {
   "cell_type": "code",
   "execution_count": 41,
   "id": "ce060684",
   "metadata": {},
   "outputs": [],
   "source": [
    "import pandas as pd"
   ]
  },
  {
   "cell_type": "code",
   "execution_count": 42,
   "id": "5e24f92b",
   "metadata": {},
   "outputs": [
    {
     "name": "stdout",
     "output_type": "stream",
     "text": [
      "         Category                                             Resume\n",
      "0    Data Science  Skills * Programming Languages: Python (pandas...\n",
      "1    Data Science  Education Details \\r\\nMay 2013 to May 2017 B.E...\n",
      "2    Data Science  Areas of Interest Deep Learning, Control Syste...\n",
      "3    Data Science  Skills â¢ R â¢ Python â¢ SAP HANA â¢ Table...\n",
      "4    Data Science  Education Details \\r\\n MCA   YMCAUST,  Faridab...\n",
      "..            ...                                                ...\n",
      "957       Testing  Computer Skills: â¢ Proficient in MS office (...\n",
      "958       Testing  â Willingness to accept the challenges. â ...\n",
      "959       Testing  PERSONAL SKILLS â¢ Quick learner, â¢ Eagerne...\n",
      "960       Testing  COMPUTER SKILLS & SOFTWARE KNOWLEDGE MS-Power ...\n",
      "961       Testing  Skill Set OS Windows XP/7/8/8.1/10 Database MY...\n",
      "\n",
      "[962 rows x 2 columns]\n",
      "['Category', 'Resume']\n"
     ]
    }
   ],
   "source": [
    "resume_data = pd.read_csv('ResumeDataSet/UpdatedResumeDataSet.csv')\n",
    "print(resume_data)\n",
    "print(resume_data.columns.tolist())\n"
   ]
  },
  {
   "cell_type": "code",
   "execution_count": 11,
   "id": "122b8931",
   "metadata": {},
   "outputs": [
    {
     "name": "stdout",
     "output_type": "stream",
     "text": [
      "✔️Displaying the distinct categories of resume:\n",
      "\n",
      " \n",
      "['Data Science' 'HR' 'Advocate' 'Arts' 'Web Designing'\n",
      " 'Mechanical Engineer' 'Sales' 'Health and fitness' 'Civil Engineer'\n",
      " 'Java Developer' 'Business Analyst' 'SAP Developer' 'Automation Testing'\n",
      " 'Electrical Engineering' 'Operations Manager' 'Python Developer'\n",
      " 'DevOps Engineer' 'Network Security Engineer' 'PMO' 'Database' 'Hadoop'\n",
      " 'ETL Developer' 'DotNet Developer' 'Blockchain' 'Testing']\n"
     ]
    }
   ],
   "source": [
    "print (\"✔️Displaying the distinct categories of resume:\\n\\n \")\n",
    "print (resume_data['Category'].unique())"
   ]
  },
  {
   "cell_type": "code",
   "execution_count": 14,
   "id": "44e91fe2",
   "metadata": {},
   "outputs": [
    {
     "name": "stdout",
     "output_type": "stream",
     "text": [
      "The shape of the data is: (962, 2)\n",
      "\n",
      "The size of the data is: 1924\n",
      "\n"
     ]
    }
   ],
   "source": [
    "print(f'The shape of the data is: {resume_data.shape}\\n')\n",
    "print(f'The size of the data is: {resume_data.size}\\n')"
   ]
  },
  {
   "cell_type": "code",
   "execution_count": 19,
   "id": "1ada3bd9",
   "metadata": {},
   "outputs": [
    {
     "name": "stdout",
     "output_type": "stream",
     "text": [
      "Category    object\n",
      "Resume      object\n",
      "dtype: object\n",
      "<class 'pandas.core.frame.DataFrame'>\n",
      "RangeIndex: 962 entries, 0 to 961\n",
      "Data columns (total 2 columns):\n",
      " #   Column    Non-Null Count  Dtype \n",
      "---  ------    --------------  ----- \n",
      " 0   Category  962 non-null    object\n",
      " 1   Resume    962 non-null    object\n",
      "dtypes: object(2)\n",
      "memory usage: 15.2+ KB\n",
      "None\n"
     ]
    }
   ],
   "source": [
    "print(resume_data.dtypes)\n",
    "print(resume_data.info())"
   ]
  },
  {
   "cell_type": "code",
   "execution_count": 37,
   "id": "f369b639",
   "metadata": {},
   "outputs": [
    {
     "data": {
      "text/html": [
       "<div>\n",
       "<style scoped>\n",
       "    .dataframe tbody tr th:only-of-type {\n",
       "        vertical-align: middle;\n",
       "    }\n",
       "\n",
       "    .dataframe tbody tr th {\n",
       "        vertical-align: top;\n",
       "    }\n",
       "\n",
       "    .dataframe thead th {\n",
       "        text-align: right;\n",
       "    }\n",
       "</style>\n",
       "<table border=\"1\" class=\"dataframe\">\n",
       "  <thead>\n",
       "    <tr style=\"text-align: right;\">\n",
       "      <th></th>\n",
       "      <th>Category</th>\n",
       "      <th>Resume</th>\n",
       "    </tr>\n",
       "  </thead>\n",
       "  <tbody>\n",
       "    <tr>\n",
       "      <th>count</th>\n",
       "      <td>962</td>\n",
       "      <td>962</td>\n",
       "    </tr>\n",
       "    <tr>\n",
       "      <th>unique</th>\n",
       "      <td>25</td>\n",
       "      <td>166</td>\n",
       "    </tr>\n",
       "    <tr>\n",
       "      <th>top</th>\n",
       "      <td>Java Developer</td>\n",
       "      <td>Technical Skills Web Technologies: Angular JS,...</td>\n",
       "    </tr>\n",
       "    <tr>\n",
       "      <th>freq</th>\n",
       "      <td>84</td>\n",
       "      <td>18</td>\n",
       "    </tr>\n",
       "  </tbody>\n",
       "</table>\n",
       "</div>"
      ],
      "text/plain": [
       "              Category                                             Resume\n",
       "count              962                                                962\n",
       "unique              25                                                166\n",
       "top     Java Developer  Technical Skills Web Technologies: Angular JS,...\n",
       "freq                84                                                 18"
      ]
     },
     "execution_count": 37,
     "metadata": {},
     "output_type": "execute_result"
    }
   ],
   "source": [
    "resume_data.describe()"
   ]
  },
  {
   "cell_type": "code",
   "execution_count": 30,
   "id": "a3bfe068",
   "metadata": {},
   "outputs": [
    {
     "name": "stdout",
     "output_type": "stream",
     "text": [
      "Category                                         Data Science\n",
      "Resume      Skills * Programming Languages: Python (pandas...\n",
      "Name: 0, dtype: object\n",
      "                   Category                                             Resume\n",
      "0              Data Science  Skills * Programming Languages: Python (pandas...\n",
      "100                Advocate  Skills: Natural Languages: Proficient in Engli...\n",
      "200     Mechanical Engineer  Education Details \\r\\nMay 1999 to September 20...\n",
      "300          Civil Engineer  PERSONAL SKILLS â¢ Passionate towards learnin...\n",
      "400          Java Developer  TECHNICAL SKILLS Programming Languages: Java (...\n",
      "500  Electrical Engineering  Education Details \\r\\nJanuary 2012 to January ...\n",
      "600         DevOps Engineer  Software Proficiency: â¢ Languages: Basics of...\n",
      "700                     PMO  CORE COMPETENCIES â¢ Maintain processes to en...\n"
     ]
    }
   ],
   "source": [
    "print(resume_data.loc[0])\n",
    "print(resume_data.iloc[0:800:100])"
   ]
  },
  {
   "cell_type": "code",
   "execution_count": 32,
   "id": "00a17217",
   "metadata": {},
   "outputs": [
    {
     "data": {
      "text/plain": [
       "Category    0\n",
       "Resume      0\n",
       "dtype: int64"
      ]
     },
     "execution_count": 32,
     "metadata": {},
     "output_type": "execute_result"
    }
   ],
   "source": [
    "resume_data.isna().sum()"
   ]
  },
  {
   "cell_type": "code",
   "execution_count": 35,
   "id": "73a6dcaf",
   "metadata": {},
   "outputs": [
    {
     "name": "stdout",
     "output_type": "stream",
     "text": [
      "The number of duplicates are 796\n"
     ]
    }
   ],
   "source": [
    "if resume_data.duplicated().any()>0:\n",
    "    print(f\"The number of duplicates are {resume_data.duplicated().sum()}\")\n",
    "else:\n",
    "    print(f'There are no duplicates r in the dataset')"
   ]
  },
  {
   "cell_type": "code",
   "execution_count": 40,
   "id": "81357bdf",
   "metadata": {},
   "outputs": [
    {
     "data": {
      "text/plain": [
       "Category\n",
       "Java Developer               84\n",
       "Testing                      70\n",
       "DevOps Engineer              55\n",
       "Python Developer             48\n",
       "Web Designing                45\n",
       "HR                           44\n",
       "Hadoop                       42\n",
       "Sales                        40\n",
       "Data Science                 40\n",
       "Mechanical Engineer          40\n",
       "ETL Developer                40\n",
       "Blockchain                   40\n",
       "Operations Manager           40\n",
       "Arts                         36\n",
       "Database                     33\n",
       "Health and fitness           30\n",
       "PMO                          30\n",
       "Electrical Engineering       30\n",
       "Business Analyst             28\n",
       "DotNet Developer             28\n",
       "Automation Testing           26\n",
       "Network Security Engineer    25\n",
       "Civil Engineer               24\n",
       "SAP Developer                24\n",
       "Advocate                     20\n",
       "Name: count, dtype: int64"
      ]
     },
     "execution_count": 40,
     "metadata": {},
     "output_type": "execute_result"
    }
   ],
   "source": [
    "resume_data['Category'].value_counts()"
   ]
  }
 ],
 "metadata": {
  "kernelspec": {
   "display_name": "Python 3",
   "language": "python",
   "name": "python3"
  },
  "language_info": {
   "codemirror_mode": {
    "name": "ipython",
    "version": 3
   },
   "file_extension": ".py",
   "mimetype": "text/x-python",
   "name": "python",
   "nbconvert_exporter": "python",
   "pygments_lexer": "ipython3",
   "version": "3.12.2"
  }
 },
 "nbformat": 4,
 "nbformat_minor": 5
}
